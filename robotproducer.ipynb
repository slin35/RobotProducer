{
  "nbformat": 4,
  "nbformat_minor": 0,
  "metadata": {
    "colab": {
      "name": "robotproducer.ipynb",
      "provenance": [],
      "collapsed_sections": [],
      "authorship_tag": "ABX9TyNzgrm1Jau2LCtJ5l1Emby+",
      "include_colab_link": true
    },
    "kernelspec": {
      "name": "python3",
      "display_name": "Python 3"
    },
    "language_info": {
      "name": "python"
    }
  },
  "cells": [
    {
      "cell_type": "markdown",
      "metadata": {
        "id": "view-in-github",
        "colab_type": "text"
      },
      "source": [
        "<a href=\"https://colab.research.google.com/github/slin35/RobotProducer/blob/main/robotproducer.ipynb\" target=\"_parent\"><img src=\"https://colab.research.google.com/assets/colab-badge.svg\" alt=\"Open In Colab\"/></a>"
      ]
    },
    {
      "cell_type": "code",
      "metadata": {
        "id": "q0Xl421vr3k0"
      },
      "source": [
        "import pandas as pd\n",
        "import json\n",
        "import nltk\n",
        "from nltk.corpus import stopwords\n",
        "from nltk.tokenize import word_tokenize\n",
        "import string\n",
        "import numpy as np\n",
        "from nltk.stem import WordNetLemmatizer\n",
        "from sklearn.model_selection import train_test_split\n",
        "import os\n",
        "import collections\n",
        "from datetime import datetime"
      ],
      "execution_count": 35,
      "outputs": []
    },
    {
      "cell_type": "code",
      "metadata": {
        "id": "O9S_Gmc_sG3y"
      },
      "source": [
        "# import data\n",
        "data1 = pd.read_csv('./tmdb_5000_movies.csv')\n",
        "data2 = pd.read_csv('./tmdb_5000_credits.csv')\n",
        "\n",
        "data1 = data1[['genres', 'title', 'overview', 'id']]\n",
        "data2 = data2[['movie_id', 'title', 'cast', 'crew']]\n",
        "\n",
        "data = pd.merge(data1, data2, left_on='id', right_on='movie_id', how='inner')\n",
        "data = data[['id', 'title_x', 'overview', 'genres', 'cast', 'crew']]\n",
        "data.rename({'title_x': 'title'}, axis=1, inplace=True)\n",
        "\n"
      ],
      "execution_count": 36,
      "outputs": []
    },
    {
      "cell_type": "code",
      "metadata": {
        "id": "i7vh4BF4vEnc"
      },
      "source": [
        "# cleanup genres\n",
        "data['genres'] = [json.loads(i) if i != [] else [] for i in data['genres']]\n",
        "data['genres'] = [[j['name'] if 'name' in j else [] for j in i] for i in data['genres']]\n",
        "\n",
        "# cleanup cast\n",
        "data['cast'] = [json.loads(i) if i != [] else [] for i in data['cast']]\n",
        "data['cast'] = [[j['name'] if 'name' in j else [] for j in i] for i in data['cast']]\n",
        "\n",
        "# cleanup crew\n",
        "data['crew'] = [json.loads(i) if i != [] else [] for i in data['crew']]\n",
        "data['crew'] = [[j['name']  for j in i if 'job' in j and j['job'] == 'Director'] for i in data['crew']]\n",
        "\n",
        "# get rid of rows with empty overview\n",
        "nan_value = float(\"NaN\")\n",
        "data.replace(\"\", nan_value, inplace=True)\n",
        "data.dropna(subset = ['overview'], inplace=True)\n",
        "data.dropna(subset = ['genres'], inplace=True)\n"
      ],
      "execution_count": 37,
      "outputs": []
    },
    {
      "cell_type": "code",
      "metadata": {
        "colab": {
          "base_uri": "https://localhost:8080/",
          "height": 86
        },
        "id": "T9EdHouCR6Hw",
        "outputId": "0fe12dbc-b75e-4c7c-ab9d-c63e191d3022"
      },
      "source": [
        "# tokenize overview and remove stopwords and punctuation\n",
        "'''\n",
        "nltk.download('stopwords')\n",
        "nltk.download('punkt')\n",
        "nltk.download('wordnet')\n",
        "\n",
        "stop_words = set(stopwords.words('english'))\n",
        "\n",
        "data['overview'] = [word_tokenize(line) if type(line) is str else [] for line in data['overview']]\n",
        "\n",
        "data['overview'] = [[w for w in line if w not in stop_words and w not in string.punctuation] for line in data['overview']]\n",
        "\n",
        "# lemmatize words\n",
        "\n",
        "lemmatizer = WordNetLemmatizer()\n",
        "data['overview'] = [[lemmatizer.lemmatize(w) for w in line] for line in data['overview']]\n",
        "'''"
      ],
      "execution_count": 38,
      "outputs": [
        {
          "output_type": "execute_result",
          "data": {
            "application/vnd.google.colaboratory.intrinsic+json": {
              "type": "string"
            },
            "text/plain": [
              "\"\\nnltk.download('stopwords')\\nnltk.download('punkt')\\nnltk.download('wordnet')\\n\\nstop_words = set(stopwords.words('english'))\\n\\ndata['overview'] = [word_tokenize(line) if type(line) is str else [] for line in data['overview']]\\n\\ndata['overview'] = [[w for w in line if w not in stop_words and w not in string.punctuation] for line in data['overview']]\\n\\n# lemmatize words\\n\\nlemmatizer = WordNetLemmatizer()\\ndata['overview'] = [[lemmatizer.lemmatize(w) for w in line] for line in data['overview']]\\n\""
            ]
          },
          "metadata": {
            "tags": []
          },
          "execution_count": 38
        }
      ]
    },
    {
      "cell_type": "code",
      "metadata": {
        "colab": {
          "base_uri": "https://localhost:8080/"
        },
        "id": "Aet0E_nXrjj6",
        "outputId": "3284cdd2-650f-4033-87e9-50d5938d6a2f"
      },
      "source": [
        "!pip install bert-tensorflow==1.0.1\n",
        "#!pip install bert2tf"
      ],
      "execution_count": 39,
      "outputs": [
        {
          "output_type": "stream",
          "text": [
            "Requirement already satisfied: bert-tensorflow==1.0.1 in /usr/local/lib/python3.7/dist-packages (1.0.1)\n",
            "Requirement already satisfied: six in /usr/local/lib/python3.7/dist-packages (from bert-tensorflow==1.0.1) (1.15.0)\n"
          ],
          "name": "stdout"
        }
      ]
    },
    {
      "cell_type": "markdown",
      "metadata": {
        "id": "St4maUdQD931"
      },
      "source": [
        ""
      ]
    },
    {
      "cell_type": "code",
      "metadata": {
        "colab": {
          "base_uri": "https://localhost:8080/"
        },
        "id": "ywQFc4I55QCP",
        "outputId": "63206573-d45b-40e3-ded7-989f659be210"
      },
      "source": [
        "%tensorflow_version 1.x\n",
        "import tensorflow as tf\n",
        "import tensorflow_hub as hub\n",
        "\n",
        "print(tf.__version__)\n"
      ],
      "execution_count": 40,
      "outputs": [
        {
          "output_type": "stream",
          "text": [
            "1.15.2\n"
          ],
          "name": "stdout"
        }
      ]
    },
    {
      "cell_type": "code",
      "metadata": {
        "id": "p_iaMPu47NCd"
      },
      "source": [
        "import bert\n",
        "\n",
        "from bert import run_classifier\n",
        "from bert import optimization\n",
        "from bert import tokenization\n",
        "#from bert import bert_tokenization\n",
        "from bert import modeling\n",
        "from bert import run_classifier_with_tfhub"
      ],
      "execution_count": 41,
      "outputs": []
    },
    {
      "cell_type": "code",
      "metadata": {
        "colab": {
          "base_uri": "https://localhost:8080/",
          "height": 103
        },
        "id": "PWBnJP409tYr",
        "outputId": "1faee031-9d57-47ef-896a-b04b80afbad5"
      },
      "source": [
        "# BERT-based, uncased model: 12-layer, 768-hidden, 12-heads, 110M parematers\n",
        "\n",
        "\n",
        "BERT_VOCAB= './uncased_L-12_H-768_A-12/vocab.txt'\n",
        "BERT_INIT_CHKPNT = './uncased_L-12_H-768_A-12/bert_model.ckpt'\n",
        "BERT_CONFIG = './uncased_L-12_H-768_A-12/bert_config.json'\n",
        "\n",
        "tokenization.validate_case_matches_checkpoint(True,BERT_INIT_CHKPNT)\n",
        "tokenizer = tokenization.FullTokenizer(\n",
        "      vocab_file=BERT_VOCAB, do_lower_case=True)\n",
        "\n",
        "'''\n",
        "BERT_MODEL_HUB = \"https://tfhub.dev/google/bert_uncased_L-12_H-768_A-12/1\"\n",
        "\n",
        "\n",
        "def create_tokenizer_from_hub_module():\n",
        "  \"\"\"Get the vocab file and casing info from the Hub module.\"\"\"\n",
        "  with tf.Graph().as_default():\n",
        "    bert_module = hub.Module(BERT_MODEL_HUB)\n",
        "    tokenization_info = bert_module(signature=\"tokenization_info\", as_dict=True)\n",
        "    with tf.Session() as sess:\n",
        "      vocab_file, do_lower_case = sess.run([tokenization_info[\"vocab_file\"],\n",
        "                                            tokenization_info[\"do_lower_case\"]])    \n",
        "  return tokenization.FullTokenizer(vocab_file=vocab_file, do_lower_case=do_lower_case)\n",
        "\n",
        "\n",
        "tokenizer = create_tokenizer_from_hub_module()\n",
        "\n",
        "'''"
      ],
      "execution_count": 42,
      "outputs": [
        {
          "output_type": "execute_result",
          "data": {
            "application/vnd.google.colaboratory.intrinsic+json": {
              "type": "string"
            },
            "text/plain": [
              "'\\nBERT_MODEL_HUB = \"https://tfhub.dev/google/bert_uncased_L-12_H-768_A-12/1\"\\n\\n\\ndef create_tokenizer_from_hub_module():\\n  \"\"\"Get the vocab file and casing info from the Hub module.\"\"\"\\n  with tf.Graph().as_default():\\n    bert_module = hub.Module(BERT_MODEL_HUB)\\n    tokenization_info = bert_module(signature=\"tokenization_info\", as_dict=True)\\n    with tf.Session() as sess:\\n      vocab_file, do_lower_case = sess.run([tokenization_info[\"vocab_file\"],\\n                                            tokenization_info[\"do_lower_case\"]])    \\n  return tokenization.FullTokenizer(vocab_file=vocab_file, do_lower_case=do_lower_case)\\n\\n\\ntokenizer = create_tokenizer_from_hub_module()\\n\\n'"
            ]
          },
          "metadata": {
            "tags": []
          },
          "execution_count": 42
        }
      ]
    },
    {
      "cell_type": "code",
      "metadata": {
        "id": "1gmffLgMJjYX"
      },
      "source": [
        "# convert data to BERT format\n",
        "\n",
        "# getting distinct genres\n",
        "genres = []\n",
        "[[genres.append(item) for item in row if item not in genres] for row in data['genres']]\n",
        "\n",
        "# add in columns for each genre\n",
        "for genre in genres:\n",
        "  data[genre] = 0\n",
        "\n",
        "# setup new columns to correct values\n",
        "for i, row in data.iterrows():\n",
        "  for genre in row['genres']:\n",
        "    data.at[i, genre] = 1\n",
        "\n",
        "\n",
        "# splitting data into training and test set\n",
        "train, test = train_test_split(data, test_size = 0.5)\n",
        "\n",
        "'''\n",
        "# create BERT's InputExample from data\n",
        "train_inputExamples = []\n",
        "test_inputExamples = []\n",
        "\n",
        "for i, row in train.iterrows():\n",
        "  example = bert.run_classifier.InputExample(guid=None,\n",
        "                                             text_a = row['overview'],\n",
        "                                             text_b = None,\n",
        "                                             label = row[5:])\n",
        "  train_inputExamples.append(example)\n",
        "  \n",
        "for i, row in test.iterrows():\n",
        "  example = bert.run_classifier.InputExample(guid=None,\n",
        "                                             text_a = row['overview'],\n",
        "                                             text_b = None,\n",
        "                                             label = row[5:])\n",
        "  test_inputExamples.append(example)\n",
        "\n",
        "\n",
        "MAX_SEQ_LENGTH = 128\n",
        "label_list = [0, 1]\n",
        "\n",
        "# convert train and test features to BERT's InputFeatures \n",
        "train_features = bert.run_classifier.convert_examples_to_features(train_inputExamples, label_list, MAX_SEQ_LENGTH, tokenizer)\n",
        "test_features = bert.run_classifier.convert_examples_to_features(test_inputExamples, label_list, MAX_SEQ_LENGTH, tokenizer)\n",
        "'''\n",
        "\n",
        "# InputExample for object with multiple labels\n",
        "class InputExample(object):\n",
        "  def __init__(self, guid, text_a, text_b=None, labels=None):\n",
        "    self.guid = guid\n",
        "    self.text_a = text_a\n",
        "    self.text_b = text_b\n",
        "    self.labels = labels\n",
        "\n",
        "\n",
        "class InputFeatures(object):\n",
        "  def __init__(self, input_ids, input_mask, segment_ids, label_ids, is_real_example=True):\n",
        "    self.input_ids = input_ids\n",
        "    self.input_mask = input_mask\n",
        "    self.segment_ids = segment_ids\n",
        "    self.label_ids = label_ids\n",
        "    self.is_real_example = is_real_example\n"
      ],
      "execution_count": 43,
      "outputs": []
    },
    {
      "cell_type": "code",
      "metadata": {
        "id": "5qJcgyTbwpzv"
      },
      "source": [
        "\n",
        "def create_examples(df, set_labels=True):\n",
        "  examples = []\n",
        "  for (i, row) in enumerate(df.values):\n",
        "    guid = row[0]\n",
        "    text_a = row[2]\n",
        "    if set_labels:\n",
        "      labels = row[6:]\n",
        "    else:\n",
        "      labels = [0] * 20\n",
        "    examples.append(InputExample(guid=guid, text_a=text_a, labels=labels))\n",
        "  return examples\n",
        "\n",
        "train_inputExamples = create_examples(train)\n",
        "test_inputExamples = create_examples(train, set_labels=False)\n"
      ],
      "execution_count": 44,
      "outputs": []
    },
    {
      "cell_type": "code",
      "metadata": {
        "id": "D4hhDDCNxh14"
      },
      "source": [
        "# for a single sequence convert_example_to_features\n",
        "def convert_examples_to_features(examples, max_seq_length, tokenizer):\n",
        "  features = []\n",
        "\n",
        "  for (idx, example) in enumerate(examples):\n",
        "\n",
        "    tokens_a = tokenizer.tokenize(example.text_a)\n",
        "    tokens_b = None;\n",
        "\n",
        "    if len(tokens_a) > max_seq_length - 2:\n",
        "      tokens_a = tokens_a[:(max_seq_length - 2)]\n",
        "\n",
        "    tokens = [\"[CLS]\"] + tokens_a + [\"[SEP]\"]\n",
        "    segment_ids = [0] * len(tokens)           # its a single sequence, so segment_ids are all 0\n",
        "\n",
        "    input_ids = tokenizer.convert_tokens_to_ids(tokens)\n",
        "\n",
        "    input_mask = [1] * len(input_ids)\n",
        "\n",
        "    # padding up to sequence length\n",
        "    padding = [0] * (max_seq_length - len(input_ids))\n",
        "    input_ids += padding\n",
        "    input_mask += padding \n",
        "    segment_ids += padding \n",
        "\n",
        "    assert len(input_ids) == max_seq_length\n",
        "    assert len(input_mask) == max_seq_length\n",
        "    assert len(segment_ids) == max_seq_length\n",
        "\n",
        "    labels_ids = []\n",
        "    \n",
        "    for label in example.labels:\n",
        "        labels_ids.append(int(label))\n",
        "\n",
        "    feature = InputFeatures(input_ids, input_mask, segment_ids, labels_ids)\n",
        "    features.append(feature)\n",
        "\n",
        "  return features\n",
        "\n",
        "MAX_SEQ_LENGTH = 128\n",
        "\n",
        "train_features = convert_examples_to_features(train_inputExamples, MAX_SEQ_LENGTH, tokenizer)\n",
        "test_features = convert_examples_to_features(test_inputExamples, MAX_SEQ_LENGTH, tokenizer)"
      ],
      "execution_count": 53,
      "outputs": []
    },
    {
      "cell_type": "code",
      "metadata": {
        "id": "nHC4N_k-3B4t",
        "colab": {
          "base_uri": "https://localhost:8080/",
          "height": 137
        },
        "outputId": "71aa4999-263a-44ec-d829-7c0d7cf38e04"
      },
      "source": [
        "'''\n",
        "def create_model(is_predicting, input_ids, input_mask, segment_ids, labels,\n",
        "                 num_labels):\n",
        "  \"\"\"Creates a classification model.\"\"\"\n",
        "\n",
        "  bert_module = hub.Module(\n",
        "      BERT_MODEL_HUB,\n",
        "      trainable=True)\n",
        "  bert_inputs = dict(\n",
        "      input_ids=input_ids,\n",
        "      input_mask=input_mask,\n",
        "      segment_ids=segment_ids)\n",
        "  bert_outputs = bert_module(\n",
        "      inputs=bert_inputs,\n",
        "      signature=\"tokens\",\n",
        "      as_dict=True)\n",
        "\n",
        "  # Use \"pooled_output\" for classification tasks on an entire sentence.\n",
        "  # Use \"sequence_outputs\" for token-level output.\n",
        "  output_layer = bert_outputs[\"pooled_output\"]\n",
        "\n",
        "  hidden_size = output_layer.shape[-1].value\n",
        "\n",
        "  # Create our own layer to tune for politeness data.\n",
        "  output_weights = tf.get_variable(\n",
        "      \"output_weights\", [num_labels, hidden_size],\n",
        "      initializer=tf.truncated_normal_initializer(stddev=0.02))\n",
        "\n",
        "  output_bias = tf.get_variable(\n",
        "      \"output_bias\", [num_labels], initializer=tf.zeros_initializer())\n",
        "\n",
        "  with tf.variable_scope(\"loss\"):\n",
        "\n",
        "    # Dropout helps prevent overfitting\n",
        "    output_layer = tf.nn.dropout(output_layer, keep_prob=0.9)\n",
        "\n",
        "    logits = tf.matmul(output_layer, output_weights, transpose_b=True)\n",
        "    logits = tf.nn.bias_add(logits, output_bias)\n",
        "    log_probs = tf.nn.log_softmax(logits, axis=-1)\n",
        "\n",
        "    # Convert labels into one-hot encoding\n",
        "    one_hot_labels = tf.one_hot(labels, depth=num_labels, dtype=tf.float32)\n",
        "\n",
        "    predicted_labels = tf.squeeze(tf.argmax(log_probs, axis=-1, output_type=tf.int32))\n",
        "    # If we're predicting, we want predicted labels and the probabiltiies.\n",
        "    if is_predicting:\n",
        "      return (predicted_labels, log_probs)\n",
        "\n",
        "    # If we're train/eval, compute loss between predicted and actual label\n",
        "    per_example_loss = -tf.reduce_sum(one_hot_labels * log_probs, axis=-1)\n",
        "    loss = tf.reduce_mean(per_example_loss)\n",
        "    return (loss, predicted_labels, log_probs)\n",
        "\n",
        "# model_fn_builder actually creates our model function\n",
        "# using the passed parameters for num_labels, learning_rate, etc.\n",
        "def model_fn_builder(num_labels, learning_rate, num_train_steps,\n",
        "                     num_warmup_steps):\n",
        "  \"\"\"Returns `model_fn` closure for TPUEstimator.\"\"\"\n",
        "  def model_fn(features, labels, mode, params):  # pylint: disable=unused-argument\n",
        "    \"\"\"The `model_fn` for TPUEstimator.\"\"\"\n",
        "\n",
        "    input_ids = features[\"input_ids\"]\n",
        "    input_mask = features[\"input_mask\"]\n",
        "    segment_ids = features[\"segment_ids\"]\n",
        "    label_ids = features[\"label_ids\"]\n",
        "\n",
        "    is_predicting = (mode == tf.estimator.ModeKeys.PREDICT)\n",
        "    \n",
        "    # TRAIN and EVAL\n",
        "    if not is_predicting:\n",
        "\n",
        "      (loss, predicted_labels, log_probs) = create_model(\n",
        "        is_predicting, input_ids, input_mask, segment_ids, label_ids, num_labels)\n",
        "\n",
        "      train_op = bert.optimization.create_optimizer(\n",
        "          loss, learning_rate, num_train_steps, num_warmup_steps, use_tpu=False)\n",
        "\n",
        "      # Calculate evaluation metrics. \n",
        "      def metric_fn(label_ids, predicted_labels):\n",
        "        accuracy = tf.metrics.accuracy(label_ids, predicted_labels)\n",
        "        f1_score = tf.contrib.metrics.f1_score(\n",
        "            label_ids,\n",
        "            predicted_labels)\n",
        "        auc = tf.metrics.auc(\n",
        "            label_ids,\n",
        "            predicted_labels)\n",
        "        recall = tf.metrics.recall(\n",
        "            label_ids,\n",
        "            predicted_labels)\n",
        "        precision = tf.metrics.precision(\n",
        "            label_ids,\n",
        "            predicted_labels) \n",
        "        true_pos = tf.metrics.true_positives(\n",
        "            label_ids,\n",
        "            predicted_labels)\n",
        "        true_neg = tf.metrics.true_negatives(\n",
        "            label_ids,\n",
        "            predicted_labels)   \n",
        "        false_pos = tf.metrics.false_positives(\n",
        "            label_ids,\n",
        "            predicted_labels)  \n",
        "        false_neg = tf.metrics.false_negatives(\n",
        "            label_ids,\n",
        "            predicted_labels)\n",
        "        return {\n",
        "            \"eval_accuracy\": accuracy,\n",
        "            \"f1_score\": f1_score,\n",
        "            \"auc\": auc,\n",
        "            \"precision\": precision,\n",
        "            \"recall\": recall,\n",
        "            \"true_positives\": true_pos,\n",
        "            \"true_negatives\": true_neg,\n",
        "            \"false_positives\": false_pos,\n",
        "            \"false_negatives\": false_neg\n",
        "        }\n",
        "\n",
        "      eval_metrics = metric_fn(label_ids, predicted_labels)\n",
        "\n",
        "      if mode == tf.estimator.ModeKeys.TRAIN:\n",
        "        return tf.estimator.EstimatorSpec(mode=mode,\n",
        "          loss=loss,\n",
        "          train_op=train_op)\n",
        "      else:\n",
        "          return tf.estimator.EstimatorSpec(mode=mode,\n",
        "            loss=loss,\n",
        "            eval_metric_ops=eval_metrics)\n",
        "    else:\n",
        "      (predicted_labels, log_probs) = create_model(\n",
        "        is_predicting, input_ids, input_mask, segment_ids, label_ids, num_labels)\n",
        "\n",
        "      predictions = {\n",
        "          'probabilities': log_probs,\n",
        "          'labels': predicted_labels\n",
        "      }\n",
        "      return tf.estimator.EstimatorSpec(mode, predictions=predictions)\n",
        "\n",
        "  # Return the actual model function in the closure\n",
        "  return model_fn\n",
        "'''"
      ],
      "execution_count": 46,
      "outputs": [
        {
          "output_type": "execute_result",
          "data": {
            "application/vnd.google.colaboratory.intrinsic+json": {
              "type": "string"
            },
            "text/plain": [
              "'\\ndef create_model(is_predicting, input_ids, input_mask, segment_ids, labels,\\n                 num_labels):\\n  \"\"\"Creates a classification model.\"\"\"\\n\\n  bert_module = hub.Module(\\n      BERT_MODEL_HUB,\\n      trainable=True)\\n  bert_inputs = dict(\\n      input_ids=input_ids,\\n      input_mask=input_mask,\\n      segment_ids=segment_ids)\\n  bert_outputs = bert_module(\\n      inputs=bert_inputs,\\n      signature=\"tokens\",\\n      as_dict=True)\\n\\n  # Use \"pooled_output\" for classification tasks on an entire sentence.\\n  # Use \"sequence_outputs\" for token-level output.\\n  output_layer = bert_outputs[\"pooled_output\"]\\n\\n  hidden_size = output_layer.shape[-1].value\\n\\n  # Create our own layer to tune for politeness data.\\n  output_weights = tf.get_variable(\\n      \"output_weights\", [num_labels, hidden_size],\\n      initializer=tf.truncated_normal_initializer(stddev=0.02))\\n\\n  output_bias = tf.get_variable(\\n      \"output_bias\", [num_labels], initializer=tf.zeros_initializer())\\n\\n  with tf.variable_scope(\"loss\"):\\n\\n    # Dropout helps prevent overfitting\\n    output_layer = tf.nn.dropout(output_layer, keep_prob=0.9)\\n\\n    logits = tf.matmul(output_layer, output_weights, transpose_b=True)\\n    logits = tf.nn.bias_add(logits, output_bias)\\n    log_probs = tf.nn.log_softmax(logits, axis=-1)\\n\\n    # Convert labels into one-hot encoding\\n    one_hot_labels = tf.one_hot(labels, depth=num_labels, dtype=tf.float32)\\n\\n    predicted_labels = tf.squeeze(tf.argmax(log_probs, axis=-1, output_type=tf.int32))\\n    # If we\\'re predicting, we want predicted labels and the probabiltiies.\\n    if is_predicting:\\n      return (predicted_labels, log_probs)\\n\\n    # If we\\'re train/eval, compute loss between predicted and actual label\\n    per_example_loss = -tf.reduce_sum(one_hot_labels * log_probs, axis=-1)\\n    loss = tf.reduce_mean(per_example_loss)\\n    return (loss, predicted_labels, log_probs)\\n\\n# model_fn_builder actually creates our model function\\n# using the passed parameters for num_labels, learning_rate, etc.\\ndef model_fn_builder(num_labels, learning_rate, num_train_steps,\\n                     num_warmup_steps):\\n  \"\"\"Returns `model_fn` closure for TPUEstimator.\"\"\"\\n  def model_fn(features, labels, mode, params):  # pylint: disable=unused-argument\\n    \"\"\"The `model_fn` for TPUEstimator.\"\"\"\\n\\n    input_ids = features[\"input_ids\"]\\n    input_mask = features[\"input_mask\"]\\n    segment_ids = features[\"segment_ids\"]\\n    label_ids = features[\"label_ids\"]\\n\\n    is_predicting = (mode == tf.estimator.ModeKeys.PREDICT)\\n    \\n    # TRAIN and EVAL\\n    if not is_predicting:\\n\\n      (loss, predicted_labels, log_probs) = create_model(\\n        is_predicting, input_ids, input_mask, segment_ids, label_ids, num_labels)\\n\\n      train_op = bert.optimization.create_optimizer(\\n          loss, learning_rate, num_train_steps, num_warmup_steps, use_tpu=False)\\n\\n      # Calculate evaluation metrics. \\n      def metric_fn(label_ids, predicted_labels):\\n        accuracy = tf.metrics.accuracy(label_ids, predicted_labels)\\n        f1_score = tf.contrib.metrics.f1_score(\\n            label_ids,\\n            predicted_labels)\\n        auc = tf.metrics.auc(\\n            label_ids,\\n            predicted_labels)\\n        recall = tf.metrics.recall(\\n            label_ids,\\n            predicted_labels)\\n        precision = tf.metrics.precision(\\n            label_ids,\\n            predicted_labels) \\n        true_pos = tf.metrics.true_positives(\\n            label_ids,\\n            predicted_labels)\\n        true_neg = tf.metrics.true_negatives(\\n            label_ids,\\n            predicted_labels)   \\n        false_pos = tf.metrics.false_positives(\\n            label_ids,\\n            predicted_labels)  \\n        false_neg = tf.metrics.false_negatives(\\n            label_ids,\\n            predicted_labels)\\n        return {\\n            \"eval_accuracy\": accuracy,\\n            \"f1_score\": f1_score,\\n            \"auc\": auc,\\n            \"precision\": precision,\\n            \"recall\": recall,\\n            \"true_positives\": true_pos,\\n            \"true_negatives\": true_neg,\\n            \"false_positives\": false_pos,\\n            \"false_negatives\": false_neg\\n        }\\n\\n      eval_metrics = metric_fn(label_ids, predicted_labels)\\n\\n      if mode == tf.estimator.ModeKeys.TRAIN:\\n        return tf.estimator.EstimatorSpec(mode=mode,\\n          loss=loss,\\n          train_op=train_op)\\n      else:\\n          return tf.estimator.EstimatorSpec(mode=mode,\\n            loss=loss,\\n            eval_metric_ops=eval_metrics)\\n    else:\\n      (predicted_labels, log_probs) = create_model(\\n        is_predicting, input_ids, input_mask, segment_ids, label_ids, num_labels)\\n\\n      predictions = {\\n          \\'probabilities\\': log_probs,\\n          \\'labels\\': predicted_labels\\n      }\\n      return tf.estimator.EstimatorSpec(mode, predictions=predictions)\\n\\n  # Return the actual model function in the closure\\n  return model_fn\\n'"
            ]
          },
          "metadata": {
            "tags": []
          },
          "execution_count": 46
        }
      ]
    },
    {
      "cell_type": "code",
      "metadata": {
        "id": "-k74clo2ELRP"
      },
      "source": [
        "def create_model(bert_config, is_training, input_ids, input_mask, segment_ids,\n",
        "                 labels, num_labels, use_one_hot_embeddings):\n",
        "    \"\"\"Creates a classification model.\"\"\"\n",
        "    model = modeling.BertModel(\n",
        "        config=bert_config,\n",
        "        is_training=is_training,\n",
        "        input_ids=input_ids,\n",
        "        input_mask=input_mask,\n",
        "        token_type_ids=segment_ids,\n",
        "        use_one_hot_embeddings=use_one_hot_embeddings)\n",
        "\n",
        "    # In the demo, we are doing a simple classification task on the entire\n",
        "    # segment.\n",
        "    #\n",
        "    # If you want to use the token-level output, use model.get_sequence_output()\n",
        "    # instead.\n",
        "    output_layer = model.get_pooled_output()\n",
        "\n",
        "    hidden_size = output_layer.shape[-1].value\n",
        "\n",
        "    output_weights = tf.get_variable(\n",
        "        \"output_weights\", [num_labels, hidden_size],\n",
        "        initializer=tf.truncated_normal_initializer(stddev=0.02))\n",
        "\n",
        "    output_bias = tf.get_variable(\n",
        "        \"output_bias\", [num_labels], initializer=tf.zeros_initializer())\n",
        "\n",
        "    with tf.variable_scope(\"loss\"):\n",
        "        if is_training:\n",
        "            # I.e., 0.1 dropout\n",
        "            output_layer = tf.nn.dropout(output_layer, keep_prob=0.9)\n",
        "\n",
        "        logits = tf.matmul(output_layer, output_weights, transpose_b=True)\n",
        "        logits = tf.nn.bias_add(logits, output_bias)\n",
        "        \n",
        "        # probabilities = tf.nn.softmax(logits, axis=-1) ### multiclass case\n",
        "        probabilities = tf.nn.sigmoid(logits)#### multi-label case\n",
        "        \n",
        "        labels = tf.cast(labels, tf.float32)\n",
        "        tf.logging.info(\"num_labels:{};logits:{};labels:{}\".format(num_labels, logits, labels))\n",
        "        per_example_loss = tf.nn.sigmoid_cross_entropy_with_logits(labels=labels, logits=logits)\n",
        "        loss = tf.reduce_mean(per_example_loss)\n",
        "\n",
        "        # probabilities = tf.nn.softmax(logits, axis=-1)\n",
        "        # log_probs = tf.nn.log_softmax(logits, axis=-1)\n",
        "        #\n",
        "        # one_hot_labels = tf.one_hot(labels, depth=num_labels, dtype=tf.float32)\n",
        "        #\n",
        "        # per_example_loss = -tf.reduce_sum(one_hot_labels * log_probs, axis=-1)\n",
        "        # loss = tf.reduce_mean(per_example_loss)\n",
        "\n",
        "        return (loss, per_example_loss, logits, probabilities)\n",
        "\n",
        "\n",
        "def model_fn_builder(bert_config, num_labels, init_checkpoint, learning_rate,\n",
        "                     num_train_steps, num_warmup_steps, use_tpu,\n",
        "                     use_one_hot_embeddings):\n",
        "    \"\"\"Returns `model_fn` closure for TPUEstimator.\"\"\"\n",
        "\n",
        "    def model_fn(features, labels, mode, params):  # pylint: disable=unused-argument\n",
        "        \"\"\"The `model_fn` for TPUEstimator.\"\"\"\n",
        "\n",
        "        #tf.logging.info(\"*** Features ***\")\n",
        "        #for name in sorted(features.keys()):\n",
        "        #    tf.logging.info(\"  name = %s, shape = %s\" % (name, features[name].shape))\n",
        "\n",
        "        input_ids = features[\"input_ids\"]\n",
        "        input_mask = features[\"input_mask\"]\n",
        "        segment_ids = features[\"segment_ids\"]\n",
        "        label_ids = features[\"label_ids\"]\n",
        "        is_real_example = None\n",
        "        if \"is_real_example\" in features:\n",
        "             is_real_example = tf.cast(features[\"is_real_example\"], dtype=tf.float32)\n",
        "        else:\n",
        "             is_real_example = tf.ones(tf.shape(label_ids), dtype=tf.float32)\n",
        "\n",
        "        is_training = (mode == tf.estimator.ModeKeys.TRAIN)\n",
        "\n",
        "        (total_loss, per_example_loss, logits, probabilities) = create_model(\n",
        "            bert_config, is_training, input_ids, input_mask, segment_ids, label_ids,\n",
        "            num_labels, use_one_hot_embeddings)\n",
        "\n",
        "        tvars = tf.trainable_variables()\n",
        "        initialized_variable_names = {}\n",
        "        scaffold_fn = None\n",
        "        if init_checkpoint:\n",
        "            (assignment_map, initialized_variable_names\n",
        "             ) = modeling.get_assignment_map_from_checkpoint(tvars, init_checkpoint)\n",
        "            if use_tpu:\n",
        "\n",
        "                def tpu_scaffold():\n",
        "                    tf.train.init_from_checkpoint(init_checkpoint, assignment_map)\n",
        "                    return tf.train.Scaffold()\n",
        "\n",
        "                scaffold_fn = tpu_scaffold\n",
        "            else:\n",
        "                tf.train.init_from_checkpoint(init_checkpoint, assignment_map)\n",
        "\n",
        "        tf.logging.info(\"**** Trainable Variables ****\")\n",
        "        for var in tvars:\n",
        "            init_string = \"\"\n",
        "            if var.name in initialized_variable_names:\n",
        "                init_string = \", *INIT_FROM_CKPT*\"\n",
        "            #tf.logging.info(\"  name = %s, shape = %s%s\", var.name, var.shape,init_string)\n",
        "\n",
        "        output_spec = None\n",
        "        if mode == tf.estimator.ModeKeys.TRAIN:\n",
        "\n",
        "            train_op = optimization.create_optimizer(\n",
        "                total_loss, learning_rate, num_train_steps, num_warmup_steps, use_tpu)\n",
        "\n",
        "            output_spec = tf.estimator.EstimatorSpec(\n",
        "                mode=mode,\n",
        "                loss=total_loss,\n",
        "                train_op=train_op,\n",
        "                scaffold=scaffold_fn)\n",
        "        elif mode == tf.estimator.ModeKeys.EVAL:\n",
        "\n",
        "            def metric_fn(per_example_loss, label_ids, probabilities, is_real_example):\n",
        "\n",
        "                logits_split = tf.split(probabilities, num_labels, axis=-1)\n",
        "                label_ids_split = tf.split(label_ids, num_labels, axis=-1)\n",
        "                # metrics change to auc of every class\n",
        "                eval_dict = {}\n",
        "                for j, logits in enumerate(logits_split):\n",
        "                    label_id_ = tf.cast(label_ids_split[j], dtype=tf.int32)\n",
        "                    current_auc, update_op_auc = tf.metrics.auc(label_id_, logits)\n",
        "                    eval_dict[str(j)] = (current_auc, update_op_auc)\n",
        "                eval_dict['eval_loss'] = tf.metrics.mean(values=per_example_loss)\n",
        "                return eval_dict\n",
        "\n",
        "                ## original eval metrics\n",
        "                # predictions = tf.argmax(logits, axis=-1, output_type=tf.int32)\n",
        "                # accuracy = tf.metrics.accuracy(\n",
        "                #     labels=label_ids, predictions=predictions, weights=is_real_example)\n",
        "                # loss = tf.metrics.mean(values=per_example_loss, weights=is_real_example)\n",
        "                # return {\n",
        "                #     \"eval_accuracy\": accuracy,\n",
        "                #     \"eval_loss\": loss,\n",
        "                # }\n",
        "\n",
        "            eval_metrics = metric_fn(per_example_loss, label_ids, probabilities, is_real_example)\n",
        "            output_spec = tf.estimator.EstimatorSpec(\n",
        "                mode=mode,\n",
        "                loss=total_loss,\n",
        "                eval_metric_ops=eval_metrics,\n",
        "                scaffold=scaffold_fn)\n",
        "        else:\n",
        "            print(\"mode:\", mode,\"probabilities:\", probabilities)\n",
        "            output_spec = tf.estimator.EstimatorSpec(\n",
        "                mode=mode,\n",
        "                predictions={\"probabilities\": probabilities},\n",
        "                scaffold=scaffold_fn)\n",
        "        return output_spec\n",
        "\n",
        "    return model_fn"
      ],
      "execution_count": 47,
      "outputs": []
    },
    {
      "cell_type": "code",
      "metadata": {
        "id": "tsJnIqVFHWsk"
      },
      "source": [
        "class PaddingInputExample(object):\n",
        "    \"\"\"Fake example so the num input examples is a multiple of the batch size.\n",
        "    When running eval/predict on the TPU, we need to pad the number of examples\n",
        "    to be a multiple of the batch size, because the TPU requires a fixed batch\n",
        "    size. The alternative is to drop the last batch, which is bad because it means\n",
        "    the entire output data won't be generated.\n",
        "    We use this class instead of `None` because treating `None` as padding\n",
        "    battches could cause silent errors.\n",
        "    \"\"\"\n",
        "    \n",
        "    \n",
        "def convert_single_example(ex_index, example, max_seq_length,\n",
        "                           tokenizer):\n",
        "    \"\"\"Converts a single `InputExample` into a single `InputFeatures`.\"\"\"\n",
        "\n",
        "    if isinstance(example, PaddingInputExample):\n",
        "        return InputFeatures(\n",
        "            input_ids=[0] * max_seq_length,\n",
        "            input_mask=[0] * max_seq_length,\n",
        "            segment_ids=[0] * max_seq_length,\n",
        "            label_ids=0,\n",
        "            is_real_example=False)\n",
        "\n",
        "    tokens_a = tokenizer.tokenize(example.text_a)\n",
        "    tokens_b = None\n",
        "    if example.text_b:\n",
        "        tokens_b = tokenizer.tokenize(example.text_b)\n",
        "\n",
        "    if tokens_b:\n",
        "        # Modifies `tokens_a` and `tokens_b` in place so that the total\n",
        "        # length is less than the specified length.\n",
        "        # Account for [CLS], [SEP], [SEP] with \"- 3\"\n",
        "        _truncate_seq_pair(tokens_a, tokens_b, max_seq_length - 3)\n",
        "    else:\n",
        "        # Account for [CLS] and [SEP] with \"- 2\"\n",
        "        if len(tokens_a) > max_seq_length - 2:\n",
        "            tokens_a = tokens_a[0:(max_seq_length - 2)]\n",
        "\n",
        "    # The convention in BERT is:\n",
        "    # (a) For sequence pairs:\n",
        "    #  tokens:   [CLS] is this jack ##son ##ville ? [SEP] no it is not . [SEP]\n",
        "    #  type_ids: 0     0  0    0    0     0       0 0     1  1  1  1   1 1\n",
        "    # (b) For single sequences:\n",
        "    #  tokens:   [CLS] the dog is hairy . [SEP]\n",
        "    #  type_ids: 0     0   0   0  0     0 0\n",
        "    #\n",
        "    # Where \"type_ids\" are used to indicate whether this is the first\n",
        "    # sequence or the second sequence. The embedding vectors for `type=0` and\n",
        "    # `type=1` were learned during pre-training and are added to the wordpiece\n",
        "    # embedding vector (and position vector). This is not *strictly* necessary\n",
        "    # since the [SEP] token unambiguously separates the sequences, but it makes\n",
        "    # it easier for the model to learn the concept of sequences.\n",
        "    #\n",
        "    # For classification tasks, the first vector (corresponding to [CLS]) is\n",
        "    # used as the \"sentence vector\". Note that this only makes sense because\n",
        "    # the entire model is fine-tuned.\n",
        "    tokens = []\n",
        "    segment_ids = []\n",
        "    tokens.append(\"[CLS]\")\n",
        "    segment_ids.append(0)\n",
        "    for token in tokens_a:\n",
        "        tokens.append(token)\n",
        "        segment_ids.append(0)\n",
        "    tokens.append(\"[SEP]\")\n",
        "    segment_ids.append(0)\n",
        "\n",
        "    if tokens_b:\n",
        "        for token in tokens_b:\n",
        "            tokens.append(token)\n",
        "            segment_ids.append(1)\n",
        "        tokens.append(\"[SEP]\")\n",
        "        segment_ids.append(1)\n",
        "\n",
        "    input_ids = tokenizer.convert_tokens_to_ids(tokens)\n",
        "\n",
        "    # The mask has 1 for real tokens and 0 for padding tokens. Only real\n",
        "    # tokens are attended to.\n",
        "    input_mask = [1] * len(input_ids)\n",
        "\n",
        "    # Zero-pad up to the sequence length.\n",
        "    while len(input_ids) < max_seq_length:\n",
        "        input_ids.append(0)\n",
        "        input_mask.append(0)\n",
        "        segment_ids.append(0)\n",
        "\n",
        "    assert len(input_ids) == max_seq_length\n",
        "    assert len(input_mask) == max_seq_length\n",
        "    assert len(segment_ids) == max_seq_length\n",
        "\n",
        "    labels_ids = []\n",
        "    for label in example.labels:\n",
        "        labels_ids.append(int(label))\n",
        "\n",
        "\n",
        "    feature = InputFeatures(\n",
        "        input_ids=input_ids,\n",
        "        input_mask=input_mask,\n",
        "        segment_ids=segment_ids,\n",
        "        label_ids=labels_ids,\n",
        "        is_real_example=True)\n",
        "    return feature\n",
        "\n",
        "\n",
        "def file_based_convert_examples_to_features(\n",
        "        examples, max_seq_length, tokenizer, output_file):\n",
        "    \"\"\"Convert a set of `InputExample`s to a TFRecord file.\"\"\"\n",
        "\n",
        "    writer = tf.python_io.TFRecordWriter(output_file)\n",
        "\n",
        "    for (ex_index, example) in enumerate(examples):\n",
        "        #if ex_index % 10000 == 0:\n",
        "            #tf.logging.info(\"Writing example %d of %d\" % (ex_index, len(examples)))\n",
        "\n",
        "        feature = convert_single_example(ex_index, example,\n",
        "                                         max_seq_length, tokenizer)\n",
        "\n",
        "        def create_int_feature(values):\n",
        "            f = tf.train.Feature(int64_list=tf.train.Int64List(value=list(values)))\n",
        "            return f\n",
        "\n",
        "        features = collections.OrderedDict()\n",
        "        features[\"input_ids\"] = create_int_feature(feature.input_ids)\n",
        "        features[\"input_mask\"] = create_int_feature(feature.input_mask)\n",
        "        features[\"segment_ids\"] = create_int_feature(feature.segment_ids)\n",
        "        features[\"is_real_example\"] = create_int_feature(\n",
        "            [int(feature.is_real_example)])\n",
        "        if isinstance(feature.label_ids, list):\n",
        "            label_ids = feature.label_ids\n",
        "        else:\n",
        "            label_ids = feature.label_ids[0]\n",
        "        features[\"label_ids\"] = create_int_feature(label_ids)\n",
        "\n",
        "        tf_example = tf.train.Example(features=tf.train.Features(feature=features))\n",
        "        writer.write(tf_example.SerializeToString())\n",
        "    writer.close()\n",
        "\n",
        "\n",
        "def file_based_input_fn_builder(input_file, seq_length, is_training,\n",
        "                                drop_remainder):\n",
        "    \"\"\"Creates an `input_fn` closure to be passed to TPUEstimator.\"\"\"\n",
        "\n",
        "    name_to_features = {\n",
        "        \"input_ids\": tf.FixedLenFeature([seq_length], tf.int64),\n",
        "        \"input_mask\": tf.FixedLenFeature([seq_length], tf.int64),\n",
        "        \"segment_ids\": tf.FixedLenFeature([seq_length], tf.int64),\n",
        "        \"label_ids\": tf.FixedLenFeature([20], tf.int64),\n",
        "        \"is_real_example\": tf.FixedLenFeature([], tf.int64),\n",
        "    }\n",
        "\n",
        "    def _decode_record(record, name_to_features):\n",
        "        \"\"\"Decodes a record to a TensorFlow example.\"\"\"\n",
        "        example = tf.parse_single_example(record, name_to_features)\n",
        "\n",
        "        # tf.Example only supports tf.int64, but the TPU only supports tf.int32.\n",
        "        # So cast all int64 to int32.\n",
        "        for name in list(example.keys()):\n",
        "            t = example[name]\n",
        "            if t.dtype == tf.int64:\n",
        "                t = tf.to_int32(t)\n",
        "            example[name] = t\n",
        "\n",
        "        return example\n",
        "\n",
        "    def input_fn(params):\n",
        "        \"\"\"The actual input function.\"\"\"\n",
        "        batch_size = params[\"batch_size\"]\n",
        "\n",
        "        # For training, we want a lot of parallel reading and shuffling.\n",
        "        # For eval, we want no shuffling and parallel reading doesn't matter.\n",
        "        d = tf.data.TFRecordDataset(input_file)\n",
        "        if is_training:\n",
        "            d = d.repeat()\n",
        "            d = d.shuffle(buffer_size=100)\n",
        "\n",
        "        d = d.apply(\n",
        "            tf.contrib.data.map_and_batch(\n",
        "                lambda record: _decode_record(record, name_to_features),\n",
        "                batch_size=batch_size,\n",
        "                drop_remainder=drop_remainder))\n",
        "\n",
        "        return d\n",
        "\n",
        "    return input_fn\n",
        "\n",
        "\n",
        "def _truncate_seq_pair(tokens_a, tokens_b, max_length):\n",
        "    \"\"\"Truncates a sequence pair in place to the maximum length.\"\"\"\n",
        "\n",
        "    # This is a simple heuristic which will always truncate the longer sequence\n",
        "    # one token at a time. This makes more sense than truncating an equal percent\n",
        "    # of tokens from each, since if one sequence is very short then each token\n",
        "    # that's truncated likely contains more information than a longer sequence.\n",
        "    while True:\n",
        "        total_length = len(tokens_a) + len(tokens_b)\n",
        "        if total_length <= max_length:\n",
        "            break\n",
        "        if len(tokens_a) > len(tokens_b):\n",
        "            tokens_a.pop()\n",
        "        else:\n",
        "            tokens_b.pop()"
      ],
      "execution_count": 48,
      "outputs": []
    },
    {
      "cell_type": "code",
      "metadata": {
        "id": "ndEORU9B0DqC"
      },
      "source": [
        "\n",
        "# Compute train and warmup steps from batch size\n",
        "# These hyperparameters are copied from this colab notebook (https://colab.sandbox.google.com/github/tensorflow/tpu/blob/master/tools/colab/bert_finetuning_with_cloud_tpus.ipynb)\n",
        "BATCH_SIZE = 32\n",
        "LEARNING_RATE = 2e-5\n",
        "NUM_TRAIN_EPOCHS = 3.0\n",
        "# Warmup is a period of time where hte learning rate \n",
        "# is small and gradually increases--usually helps training.\n",
        "WARMUP_PROPORTION = 0.1\n",
        "# Model configs\n",
        "SAVE_CHECKPOINTS_STEPS = 500\n",
        "SAVE_SUMMARY_STEPS = 100"
      ],
      "execution_count": 49,
      "outputs": []
    },
    {
      "cell_type": "code",
      "metadata": {
        "colab": {
          "base_uri": "https://localhost:8080/"
        },
        "id": "KOqp5Her3L41",
        "outputId": "7ddee8ca-ef3f-4cf5-9d4f-23dbe3bdcebe"
      },
      "source": [
        "num_train_steps = int(len(train_inputExamples) / BATCH_SIZE * NUM_TRAIN_EPOCHS)\n",
        "num_warmup_steps = int(num_train_steps * WARMUP_PROPORTION)\n",
        "\n",
        "train_file = os.path.join('./', \"train.tf_record\")\n",
        "if not os.path.exists(train_file):\n",
        "  open(train_file, 'w').close()\n",
        "\n",
        "file_based_convert_examples_to_features(train_inputExamples, MAX_SEQ_LENGTH, tokenizer, train_file)\n",
        "\n",
        "tf.logging.info(\"***** Running training *****\")\n",
        "tf.logging.info(\"  Num examples = %d\", len(train_inputExamples))\n",
        "tf.logging.info(\"  Batch size = %d\", BATCH_SIZE)\n",
        "tf.logging.info(\"  Num steps = %d\", num_train_steps)\n",
        "\n",
        "train_input_fn = file_based_input_fn_builder(train_file, MAX_SEQ_LENGTH, is_training=True, drop_remainder=True)\n",
        "\n",
        "run_config = tf.estimator.RunConfig(\n",
        "    model_dir = './Output',\n",
        "    save_summary_steps = SAVE_SUMMARY_STEPS,\n",
        "    keep_checkpoint_max = 1,\n",
        "    save_checkpoints_steps = SAVE_CHECKPOINTS_STEPS\n",
        ")\n",
        "\n",
        "bert_config = modeling.BertConfig.from_json_file(BERT_CONFIG)\n",
        "\n",
        "model_fn = model_fn_builder(\n",
        "  bert_config=bert_config,\n",
        "  num_labels= 20,\n",
        "  init_checkpoint=BERT_INIT_CHKPNT,\n",
        "  learning_rate=LEARNING_RATE,\n",
        "  num_train_steps=num_train_steps,\n",
        "  num_warmup_steps=num_warmup_steps,\n",
        "  use_tpu=False,\n",
        "  use_one_hot_embeddings=False)\n",
        "\n",
        "estimator = tf.estimator.Estimator(\n",
        "  model_fn=model_fn,\n",
        "  config=run_config,\n",
        "  params={\"batch_size\": BATCH_SIZE})\n"
      ],
      "execution_count": 50,
      "outputs": [
        {
          "output_type": "stream",
          "text": [
            "INFO:tensorflow:***** Running training *****\n",
            "INFO:tensorflow:  Num examples = 2400\n",
            "INFO:tensorflow:  Batch size = 32\n",
            "INFO:tensorflow:  Num steps = 225\n",
            "INFO:tensorflow:Using config: {'_model_dir': './Output', '_tf_random_seed': None, '_save_summary_steps': 100, '_save_checkpoints_steps': 500, '_save_checkpoints_secs': None, '_session_config': allow_soft_placement: true\n",
            "graph_options {\n",
            "  rewrite_options {\n",
            "    meta_optimizer_iterations: ONE\n",
            "  }\n",
            "}\n",
            ", '_keep_checkpoint_max': 1, '_keep_checkpoint_every_n_hours': 10000, '_log_step_count_steps': 100, '_train_distribute': None, '_device_fn': None, '_protocol': None, '_eval_distribute': None, '_experimental_distribute': None, '_experimental_max_worker_delay_secs': None, '_session_creation_timeout_secs': 7200, '_service': None, '_cluster_spec': <tensorflow.python.training.server_lib.ClusterSpec object at 0x7efc7de76950>, '_task_type': 'worker', '_task_id': 0, '_global_id_in_cluster': 0, '_master': '', '_evaluation_master': '', '_is_chief': True, '_num_ps_replicas': 0, '_num_worker_replicas': 1}\n"
          ],
          "name": "stdout"
        }
      ]
    },
    {
      "cell_type": "code",
      "metadata": {
        "colab": {
          "base_uri": "https://localhost:8080/"
        },
        "id": "gB9bIUIvlDuA",
        "outputId": "be0619d6-4ba5-4392-a86d-2c051d5bdf6f"
      },
      "source": [
        "print('Beginning Training!')\n",
        "curtime = datetime.now()\n",
        "estimator.train(input_fn=train_input_fn, max_steps=num_train_steps)\n",
        "print(\"Training time elapsed: \", datetime.now() - curtime)"
      ],
      "execution_count": 51,
      "outputs": [
        {
          "output_type": "stream",
          "text": [
            "Beginning Training!\n",
            "WARNING:tensorflow:Entity <function file_based_input_fn_builder.<locals>.input_fn.<locals>.<lambda> at 0x7efc7b7a1ef0> could not be transformed and will be executed as-is. Please report this to the AutoGraph team. When filing the bug, set the verbosity to 10 (on Linux, `export AUTOGRAPH_VERBOSITY=10`) and attach the full output. Cause: module 'gast' has no attribute 'Str'\n",
            "WARNING: Entity <function file_based_input_fn_builder.<locals>.input_fn.<locals>.<lambda> at 0x7efc7b7a1ef0> could not be transformed and will be executed as-is. Please report this to the AutoGraph team. When filing the bug, set the verbosity to 10 (on Linux, `export AUTOGRAPH_VERBOSITY=10`) and attach the full output. Cause: module 'gast' has no attribute 'Str'\n",
            "INFO:tensorflow:Calling model_fn.\n",
            "INFO:tensorflow:num_labels:20;logits:Tensor(\"loss/BiasAdd:0\", shape=(32, 20), dtype=float32);labels:Tensor(\"loss/Cast:0\", shape=(32, 20), dtype=float32)\n",
            "INFO:tensorflow:**** Trainable Variables ****\n",
            "INFO:tensorflow:Done calling model_fn.\n",
            "INFO:tensorflow:Create CheckpointSaverHook.\n",
            "INFO:tensorflow:Graph was finalized.\n",
            "INFO:tensorflow:Running local_init_op.\n",
            "INFO:tensorflow:Done running local_init_op.\n",
            "INFO:tensorflow:Saving checkpoints for 0 into ./Output/model.ckpt.\n",
            "INFO:tensorflow:loss = 0.7298079, step = 1\n",
            "WARNING:tensorflow:It seems that global step (tf.train.get_global_step) has not been increased. Current value (could be stable): 19 vs previous value: 19. You could increase the global step by passing tf.train.get_global_step() to Optimizer.apply_gradients or Optimizer.minimize.\n",
            "WARNING:tensorflow:It seems that global step (tf.train.get_global_step) has not been increased. Current value (could be stable): 50 vs previous value: 50. You could increase the global step by passing tf.train.get_global_step() to Optimizer.apply_gradients or Optimizer.minimize.\n",
            "WARNING:tensorflow:It seems that global step (tf.train.get_global_step) has not been increased. Current value (could be stable): 92 vs previous value: 92. You could increase the global step by passing tf.train.get_global_step() to Optimizer.apply_gradients or Optimizer.minimize.\n",
            "WARNING:tensorflow:It seems that global step (tf.train.get_global_step) has not been increased. Current value (could be stable): 99 vs previous value: 99. You could increase the global step by passing tf.train.get_global_step() to Optimizer.apply_gradients or Optimizer.minimize.\n",
            "INFO:tensorflow:global_step/sec: 0.0214931\n",
            "INFO:tensorflow:loss = 0.2751182, step = 101 (4652.660 sec)\n",
            "WARNING:tensorflow:It seems that global step (tf.train.get_global_step) has not been increased. Current value (could be stable): 102 vs previous value: 102. You could increase the global step by passing tf.train.get_global_step() to Optimizer.apply_gradients or Optimizer.minimize.\n",
            "INFO:tensorflow:global_step/sec: 0.021391\n",
            "INFO:tensorflow:loss = 0.2501149, step = 201 (4674.853 sec)\n",
            "INFO:tensorflow:Saving checkpoints for 225 into ./Output/model.ckpt.\n",
            "WARNING:tensorflow:From /tensorflow-1.15.2/python3.7/tensorflow_core/python/training/saver.py:963: remove_checkpoint (from tensorflow.python.training.checkpoint_management) is deprecated and will be removed in a future version.\n",
            "Instructions for updating:\n",
            "Use standard file APIs to delete files with this prefix.\n",
            "INFO:tensorflow:Loss for final step: 0.23437913.\n",
            "Training time elapsed:  2:56:11.462788\n"
          ],
          "name": "stdout"
        }
      ]
    },
    {
      "cell_type": "code",
      "metadata": {
        "id": "ADq0S3gv3J5s"
      },
      "source": [
        "def input_fn_builder(features, seq_length, is_training, drop_remainder):\n",
        "  \"\"\"Creates an `input_fn` closure to be passed to TPUEstimator.\"\"\"\n",
        "\n",
        "  all_input_ids = []\n",
        "  all_input_mask = []\n",
        "  all_segment_ids = []\n",
        "  all_label_ids = []\n",
        "\n",
        "  for feature in features:\n",
        "    all_input_ids.append(feature.input_ids)\n",
        "    all_input_mask.append(feature.input_mask)\n",
        "    all_segment_ids.append(feature.segment_ids)\n",
        "    all_label_ids.append(feature.label_ids)\n",
        "\n",
        "  def input_fn(params):\n",
        "    \"\"\"The actual input function.\"\"\"\n",
        "    batch_size = params[\"batch_size\"]\n",
        "\n",
        "    num_examples = len(features)\n",
        "\n",
        "    # This is for demo purposes and does NOT scale to large data sets. We do\n",
        "    # not use Dataset.from_generator() because that uses tf.py_func which is\n",
        "    # not TPU compatible. The right way to load data is with TFRecordReader.\n",
        "    d = tf.data.Dataset.from_tensor_slices({\n",
        "        \"input_ids\":\n",
        "            tf.constant(\n",
        "                all_input_ids, shape=[num_examples, seq_length],\n",
        "                dtype=tf.int32),\n",
        "        \"input_mask\":\n",
        "            tf.constant(\n",
        "                all_input_mask,\n",
        "                shape=[num_examples, seq_length],\n",
        "                dtype=tf.int32),\n",
        "        \"segment_ids\":\n",
        "            tf.constant(\n",
        "                all_segment_ids,\n",
        "                shape=[num_examples, seq_length],\n",
        "                dtype=tf.int32),\n",
        "        \"label_ids\":\n",
        "            tf.constant(all_label_ids, shape=[num_examples, len(LABEL_COLUMNS)], dtype=tf.int32),\n",
        "    })\n",
        "\n",
        "    if is_training:\n",
        "      d = d.repeat()\n",
        "      d = d.shuffle(buffer_size=100)\n",
        "\n",
        "    d = d.batch(batch_size=batch_size, drop_remainder=drop_remainder)\n",
        "    return d\n",
        "\n",
        "  return input_fn"
      ],
      "execution_count": 52,
      "outputs": []
    },
    {
      "cell_type": "code",
      "metadata": {
        "colab": {
          "base_uri": "https://localhost:8080/"
        },
        "id": "iEwWUnAkrI3j",
        "outputId": "e6f96953-2fe2-4374-d0fe-0226d6262e7f"
      },
      "source": [
        "\n",
        "test_file = os.path.join('./', \"test.tf_record\")\n",
        "if not os.path.exists(test_file):\n",
        "  open(test_file, 'w').close()\n",
        "\n",
        "file_based_convert_examples_to_features(train_inputExamples, MAX_SEQ_LENGTH, tokenizer, test_file)\n",
        "\n",
        "predict_input_fn = file_based_input_fn_builder(\n",
        "    input_file=test_file, \n",
        "    seq_length=MAX_SEQ_LENGTH, \n",
        "    is_training=False,\n",
        "    drop_remainder=False)\n",
        "\n",
        "print('Beginning predictions!')\n",
        "curtime = datetime.now()\n",
        "predictions = estimator.predict(predict_input_fn)\n",
        "print(\"Predictioin time elapsed: \", datetime.now() - curtime)\n"
      ],
      "execution_count": 70,
      "outputs": [
        {
          "output_type": "stream",
          "text": [
            "Beginning predictions!\n",
            "Predictioin time elapsed:  0:00:00.000125\n"
          ],
          "name": "stdout"
        }
      ]
    },
    {
      "cell_type": "code",
      "metadata": {
        "id": "ps0Y4jfY3zKw"
      },
      "source": [
        "def create_output(predictions):\n",
        "    probabilities = []\n",
        "    for (i, prediction) in enumerate(predictions):\n",
        "        preds = prediction[\"probabilities\"]\n",
        "        probabilities.append(preds)\n",
        "    dff = pd.DataFrame(probabilities)\n",
        "    dff.columns = genres\n",
        "    \n",
        "    return dff\n",
        "\n"
      ],
      "execution_count": 71,
      "outputs": []
    },
    {
      "cell_type": "code",
      "metadata": {
        "colab": {
          "base_uri": "https://localhost:8080/"
        },
        "id": "tvGXwnBU_YRf",
        "outputId": "af8a2c9c-f73a-44c9-cdc7-f40d8ed8a650"
      },
      "source": [
        "\n",
        "output_df = create_output(predictions)\n",
        "merged_df =  pd.concat([test, output_df], axis=1)\n",
        "merged_df.dropna(subset = ['overview'], inplace=True)\n",
        "merged_df.to_csv(\"sample_submission.csv\", index=False)"
      ],
      "execution_count": 72,
      "outputs": [
        {
          "output_type": "stream",
          "text": [
            "WARNING:tensorflow:Entity <function file_based_input_fn_builder.<locals>.input_fn.<locals>.<lambda> at 0x7efc327ca440> could not be transformed and will be executed as-is. Please report this to the AutoGraph team. When filing the bug, set the verbosity to 10 (on Linux, `export AUTOGRAPH_VERBOSITY=10`) and attach the full output. Cause: module 'gast' has no attribute 'Str'\n",
            "WARNING: Entity <function file_based_input_fn_builder.<locals>.input_fn.<locals>.<lambda> at 0x7efc327ca440> could not be transformed and will be executed as-is. Please report this to the AutoGraph team. When filing the bug, set the verbosity to 10 (on Linux, `export AUTOGRAPH_VERBOSITY=10`) and attach the full output. Cause: module 'gast' has no attribute 'Str'\n",
            "INFO:tensorflow:Calling model_fn.\n",
            "INFO:tensorflow:num_labels:20;logits:Tensor(\"loss/BiasAdd:0\", shape=(?, 20), dtype=float32);labels:Tensor(\"loss/Cast:0\", shape=(?, 20), dtype=float32)\n",
            "INFO:tensorflow:**** Trainable Variables ****\n",
            "mode: infer probabilities: Tensor(\"loss/Sigmoid:0\", shape=(?, 20), dtype=float32)\n",
            "INFO:tensorflow:Done calling model_fn.\n",
            "INFO:tensorflow:Graph was finalized.\n",
            "INFO:tensorflow:Restoring parameters from ./Output/model.ckpt-225\n",
            "INFO:tensorflow:Running local_init_op.\n",
            "INFO:tensorflow:Done running local_init_op.\n"
          ],
          "name": "stdout"
        }
      ]
    },
    {
      "cell_type": "code",
      "metadata": {
        "colab": {
          "base_uri": "https://localhost:8080/",
          "height": 17
        },
        "id": "mna-OOOnWmwD",
        "outputId": "e2bb09d7-aa68-41ce-dc51-fe51a067a39d"
      },
      "source": [
        "'''\n",
        "from google.colab import files\n",
        "\n",
        "files.download('sample_submission.csv')\n",
        "\n",
        "files.download('./Output/checkpoint')\n",
        "files.download('./Output/graph.pbtxt')\n",
        "files.download('./Output/model.ckpt-225.meta')\n",
        "files.download('./test.tf_record')\n",
        "files.download('./train.tf_record')\n",
        "files.download('./Output/model.ckpt-225.data-00000-of-00001')\n",
        "files.download('./Output/events.out.tfevents.1618005648.e65bada5e6bf')\n",
        "'''\n"
      ],
      "execution_count": 83,
      "outputs": [
        {
          "output_type": "display_data",
          "data": {
            "application/javascript": [
              "\n",
              "    async function download(id, filename, size) {\n",
              "      if (!google.colab.kernel.accessAllowed) {\n",
              "        return;\n",
              "      }\n",
              "      const div = document.createElement('div');\n",
              "      const label = document.createElement('label');\n",
              "      label.textContent = `Downloading \"${filename}\": `;\n",
              "      div.appendChild(label);\n",
              "      const progress = document.createElement('progress');\n",
              "      progress.max = size;\n",
              "      div.appendChild(progress);\n",
              "      document.body.appendChild(div);\n",
              "\n",
              "      const buffers = [];\n",
              "      let downloaded = 0;\n",
              "\n",
              "      const channel = await google.colab.kernel.comms.open(id);\n",
              "      // Send a message to notify the kernel that we're ready.\n",
              "      channel.send({})\n",
              "\n",
              "      for await (const message of channel.messages) {\n",
              "        // Send a message to notify the kernel that we're ready.\n",
              "        channel.send({})\n",
              "        if (message.buffers) {\n",
              "          for (const buffer of message.buffers) {\n",
              "            buffers.push(buffer);\n",
              "            downloaded += buffer.byteLength;\n",
              "            progress.value = downloaded;\n",
              "          }\n",
              "        }\n",
              "      }\n",
              "      const blob = new Blob(buffers, {type: 'application/binary'});\n",
              "      const a = document.createElement('a');\n",
              "      a.href = window.URL.createObjectURL(blob);\n",
              "      a.download = filename;\n",
              "      div.appendChild(a);\n",
              "      a.click();\n",
              "      div.remove();\n",
              "    }\n",
              "  "
            ],
            "text/plain": [
              "<IPython.core.display.Javascript object>"
            ]
          },
          "metadata": {
            "tags": []
          }
        },
        {
          "output_type": "display_data",
          "data": {
            "application/javascript": [
              "download(\"download_c491dddf-4a61-49f8-af72-88db668029a3\", \"test.tf_record\", 1457668)"
            ],
            "text/plain": [
              "<IPython.core.display.Javascript object>"
            ]
          },
          "metadata": {
            "tags": []
          }
        },
        {
          "output_type": "display_data",
          "data": {
            "application/javascript": [
              "\n",
              "    async function download(id, filename, size) {\n",
              "      if (!google.colab.kernel.accessAllowed) {\n",
              "        return;\n",
              "      }\n",
              "      const div = document.createElement('div');\n",
              "      const label = document.createElement('label');\n",
              "      label.textContent = `Downloading \"${filename}\": `;\n",
              "      div.appendChild(label);\n",
              "      const progress = document.createElement('progress');\n",
              "      progress.max = size;\n",
              "      div.appendChild(progress);\n",
              "      document.body.appendChild(div);\n",
              "\n",
              "      const buffers = [];\n",
              "      let downloaded = 0;\n",
              "\n",
              "      const channel = await google.colab.kernel.comms.open(id);\n",
              "      // Send a message to notify the kernel that we're ready.\n",
              "      channel.send({})\n",
              "\n",
              "      for await (const message of channel.messages) {\n",
              "        // Send a message to notify the kernel that we're ready.\n",
              "        channel.send({})\n",
              "        if (message.buffers) {\n",
              "          for (const buffer of message.buffers) {\n",
              "            buffers.push(buffer);\n",
              "            downloaded += buffer.byteLength;\n",
              "            progress.value = downloaded;\n",
              "          }\n",
              "        }\n",
              "      }\n",
              "      const blob = new Blob(buffers, {type: 'application/binary'});\n",
              "      const a = document.createElement('a');\n",
              "      a.href = window.URL.createObjectURL(blob);\n",
              "      a.download = filename;\n",
              "      div.appendChild(a);\n",
              "      a.click();\n",
              "      div.remove();\n",
              "    }\n",
              "  "
            ],
            "text/plain": [
              "<IPython.core.display.Javascript object>"
            ]
          },
          "metadata": {
            "tags": []
          }
        },
        {
          "output_type": "display_data",
          "data": {
            "application/javascript": [
              "download(\"download_fb704432-5452-41ce-97c2-21847f429c6a\", \"train.tf_record\", 1457668)"
            ],
            "text/plain": [
              "<IPython.core.display.Javascript object>"
            ]
          },
          "metadata": {
            "tags": []
          }
        }
      ]
    }
  ]
}