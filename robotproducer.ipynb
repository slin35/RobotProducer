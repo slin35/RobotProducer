{
  "nbformat": 4,
  "nbformat_minor": 0,
  "metadata": {
    "colab": {
      "name": "robotproducer.ipynb",
      "provenance": [],
      "toc_visible": true,
      "authorship_tag": "ABX9TyMKmbHgCFCGcqP1ir0ejMFG",
      "include_colab_link": true
    },
    "kernelspec": {
      "name": "python3",
      "display_name": "Python 3"
    },
    "language_info": {
      "name": "python"
    }
  },
  "cells": [
    {
      "cell_type": "markdown",
      "metadata": {
        "id": "view-in-github",
        "colab_type": "text"
      },
      "source": [
        "<a href=\"https://colab.research.google.com/github/slin35/RobotProducer/blob/main/robotproducer.ipynb\" target=\"_parent\"><img src=\"https://colab.research.google.com/assets/colab-badge.svg\" alt=\"Open In Colab\"/></a>"
      ]
    },
    {
      "cell_type": "code",
      "metadata": {
        "id": "q0Xl421vr3k0"
      },
      "source": [
        "import pandas as pd\n",
        "import json\n",
        "import numpy as np"
      ],
      "execution_count": 128,
      "outputs": []
    },
    {
      "cell_type": "code",
      "metadata": {
        "id": "O9S_Gmc_sG3y"
      },
      "source": [
        "# import data\n",
        "data1 = pd.read_csv('/tmdb_5000_movies.csv')\n",
        "data2 = pd.read_csv('/tmdb_5000_credits.csv')\n",
        "\n",
        "data1 = data1[['genres', 'title', 'overview', 'id']]\n",
        "data2 = data2[['movie_id', 'title', 'cast', 'crew']]\n",
        "\n",
        "data = pd.merge(data1, data2, left_on='id', right_on='movie_id', how='inner')\n",
        "data = data[['title_x', 'overview', 'genres', 'cast', 'crew']]\n",
        "data.rename({'title_x': 'title'}, axis=1, inplace=True)\n",
        "\n"
      ],
      "execution_count": 215,
      "outputs": []
    },
    {
      "cell_type": "code",
      "metadata": {
        "colab": {
          "base_uri": "https://localhost:8080/",
          "height": 255
        },
        "id": "i7vh4BF4vEnc",
        "outputId": "1c528ca3-1c53-4dbf-ae2c-eb76206c373f"
      },
      "source": [
        "# cleanup genres\n",
        "data['genres'] = [json.loads(i) if i != [] else [] for i in data['genres']]\n",
        "data['genres'] = [[j['name'] if 'name' in j else [] for j in i] for i in data['genres']]\n",
        "\n",
        "# cleanup cast\n",
        "data['cast'] = [json.loads(i) if i != [] else [] for i in data['cast']]\n",
        "data['cast'] = [[j['name'] if 'name' in j else [] for j in i] for i in data['cast']]\n",
        "\n",
        "# cleanup crew\n",
        "data['crew'] = [json.loads(i) if i != [] else [] for i in data['crew']]\n",
        "data['crew'] = [[j['name']  for j in i if 'job' in j and j['job'] == 'Director'] for i in data['crew']]\n",
        "data.tail()"
      ],
      "execution_count": 216,
      "outputs": [
        {
          "output_type": "execute_result",
          "data": {
            "text/html": [
              "<div>\n",
              "<style scoped>\n",
              "    .dataframe tbody tr th:only-of-type {\n",
              "        vertical-align: middle;\n",
              "    }\n",
              "\n",
              "    .dataframe tbody tr th {\n",
              "        vertical-align: top;\n",
              "    }\n",
              "\n",
              "    .dataframe thead th {\n",
              "        text-align: right;\n",
              "    }\n",
              "</style>\n",
              "<table border=\"1\" class=\"dataframe\">\n",
              "  <thead>\n",
              "    <tr style=\"text-align: right;\">\n",
              "      <th></th>\n",
              "      <th>title</th>\n",
              "      <th>overview</th>\n",
              "      <th>genres</th>\n",
              "      <th>cast</th>\n",
              "      <th>crew</th>\n",
              "    </tr>\n",
              "  </thead>\n",
              "  <tbody>\n",
              "    <tr>\n",
              "      <th>4798</th>\n",
              "      <td>El Mariachi</td>\n",
              "      <td>El Mariachi just wants to play his guitar and ...</td>\n",
              "      <td>[Action, Crime, Thriller]</td>\n",
              "      <td>[Carlos Gallardo, Jaime de Hoyos, Peter Marqua...</td>\n",
              "      <td>[Robert Rodriguez]</td>\n",
              "    </tr>\n",
              "    <tr>\n",
              "      <th>4799</th>\n",
              "      <td>Newlyweds</td>\n",
              "      <td>A newlywed couple's honeymoon is upended by th...</td>\n",
              "      <td>[Comedy, Romance]</td>\n",
              "      <td>[Edward Burns, Kerry Bishé, Marsha Dietlein, C...</td>\n",
              "      <td>[Edward Burns]</td>\n",
              "    </tr>\n",
              "    <tr>\n",
              "      <th>4800</th>\n",
              "      <td>Signed, Sealed, Delivered</td>\n",
              "      <td>\"Signed, Sealed, Delivered\" introduces a dedic...</td>\n",
              "      <td>[Comedy, Drama, Romance, TV Movie]</td>\n",
              "      <td>[Eric Mabius, Kristin Booth, Crystal Lowe, Geo...</td>\n",
              "      <td>[Scott Smith]</td>\n",
              "    </tr>\n",
              "    <tr>\n",
              "      <th>4801</th>\n",
              "      <td>Shanghai Calling</td>\n",
              "      <td>When ambitious New York attorney Sam is sent t...</td>\n",
              "      <td>[]</td>\n",
              "      <td>[Daniel Henney, Eliza Coupe, Bill Paxton, Alan...</td>\n",
              "      <td>[Daniel Hsia]</td>\n",
              "    </tr>\n",
              "    <tr>\n",
              "      <th>4802</th>\n",
              "      <td>My Date with Drew</td>\n",
              "      <td>Ever since the second grade when he first saw ...</td>\n",
              "      <td>[Documentary]</td>\n",
              "      <td>[Drew Barrymore, Brian Herzlinger, Corey Feldm...</td>\n",
              "      <td>[Brian Herzlinger, Jon Gunn, Brett Winn]</td>\n",
              "    </tr>\n",
              "  </tbody>\n",
              "</table>\n",
              "</div>"
            ],
            "text/plain": [
              "                          title  ...                                      crew\n",
              "4798                El Mariachi  ...                        [Robert Rodriguez]\n",
              "4799                  Newlyweds  ...                            [Edward Burns]\n",
              "4800  Signed, Sealed, Delivered  ...                             [Scott Smith]\n",
              "4801           Shanghai Calling  ...                             [Daniel Hsia]\n",
              "4802          My Date with Drew  ...  [Brian Herzlinger, Jon Gunn, Brett Winn]\n",
              "\n",
              "[5 rows x 5 columns]"
            ]
          },
          "metadata": {
            "tags": []
          },
          "execution_count": 216
        }
      ]
    },
    {
      "cell_type": "markdown",
      "metadata": {
        "id": "St4maUdQD931"
      },
      "source": [
        ""
      ]
    }
  ]
}