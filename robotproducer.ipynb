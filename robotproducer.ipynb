{
  "nbformat": 4,
  "nbformat_minor": 0,
  "metadata": {
    "colab": {
      "name": "robotproducer.ipynb",
      "provenance": [],
      "toc_visible": true,
      "authorship_tag": "ABX9TyOU6X4zttDrmbfRBFugnrsF",
      "include_colab_link": true
    },
    "kernelspec": {
      "name": "python3",
      "display_name": "Python 3"
    },
    "language_info": {
      "name": "python"
    }
  },
  "cells": [
    {
      "cell_type": "markdown",
      "metadata": {
        "id": "view-in-github",
        "colab_type": "text"
      },
      "source": [
        "<a href=\"https://colab.research.google.com/github/slin35/RobotProducer/blob/main/robotproducer.ipynb\" target=\"_parent\"><img src=\"https://colab.research.google.com/assets/colab-badge.svg\" alt=\"Open In Colab\"/></a>"
      ]
    },
    {
      "cell_type": "code",
      "metadata": {
        "id": "q0Xl421vr3k0"
      },
      "source": [
        "import pandas as pd\n",
        "import json\n",
        "import nltk\n",
        "from nltk.corpus import stopwords\n",
        "from nltk.tokenize import word_tokenize\n",
        "import string\n",
        "import numpy as np"
      ],
      "execution_count": 311,
      "outputs": []
    },
    {
      "cell_type": "code",
      "metadata": {
        "id": "O9S_Gmc_sG3y"
      },
      "source": [
        "# import data\n",
        "data1 = pd.read_csv('/tmdb_5000_movies.csv')\n",
        "data2 = pd.read_csv('/tmdb_5000_credits.csv')\n",
        "\n",
        "data1 = data1[['genres', 'title', 'overview', 'id']]\n",
        "data2 = data2[['movie_id', 'title', 'cast', 'crew']]\n",
        "\n",
        "data = pd.merge(data1, data2, left_on='id', right_on='movie_id', how='inner')\n",
        "data = data[['title_x', 'overview', 'genres', 'cast', 'crew']]\n",
        "data.rename({'title_x': 'title'}, axis=1, inplace=True)\n",
        "\n"
      ],
      "execution_count": 312,
      "outputs": []
    },
    {
      "cell_type": "code",
      "metadata": {
        "id": "i7vh4BF4vEnc"
      },
      "source": [
        "# cleanup genres\n",
        "data['genres'] = [json.loads(i) if i != [] else [] for i in data['genres']]\n",
        "data['genres'] = [[j['name'] if 'name' in j else [] for j in i] for i in data['genres']]\n",
        "\n",
        "# cleanup cast\n",
        "data['cast'] = [json.loads(i) if i != [] else [] for i in data['cast']]\n",
        "data['cast'] = [[j['name'] if 'name' in j else [] for j in i] for i in data['cast']]\n",
        "\n",
        "# cleanup crew\n",
        "data['crew'] = [json.loads(i) if i != [] else [] for i in data['crew']]\n",
        "data['crew'] = [[j['name']  for j in i if 'job' in j and j['job'] == 'Director'] for i in data['crew']]\n"
      ],
      "execution_count": 313,
      "outputs": []
    },
    {
      "cell_type": "code",
      "metadata": {
        "colab": {
          "base_uri": "https://localhost:8080/"
        },
        "id": "T9EdHouCR6Hw",
        "outputId": "15e4a0e6-8dee-4605-c0f0-e4f5e5550ef3"
      },
      "source": [
        "# tokenize overview and remove stopwords and punctuation\n",
        "\n",
        "nltk.download('stopwords')\n",
        "nltk.download('punkt')\n",
        "\n",
        "stop_words = set(stopwords.words('english'))\n",
        "\n",
        "data['overview'] = [word_tokenize(line) if type(line) is str else [] for line in data['overview']]\n",
        "\n",
        "data['overview'] = [[w for w in line if w not in stop_words and w not in string.punctuation] for line in data['overview']]"
      ],
      "execution_count": 314,
      "outputs": [
        {
          "output_type": "stream",
          "text": [
            "[nltk_data] Downloading package stopwords to /root/nltk_data...\n",
            "[nltk_data]   Package stopwords is already up-to-date!\n",
            "[nltk_data] Downloading package punkt to /root/nltk_data...\n",
            "[nltk_data]   Package punkt is already up-to-date!\n"
          ],
          "name": "stdout"
        }
      ]
    },
    {
      "cell_type": "code",
      "metadata": {
        "colab": {
          "base_uri": "https://localhost:8080/",
          "height": 289
        },
        "id": "Aet0E_nXrjj6",
        "outputId": "9d68d7f3-0074-46fd-fc28-d985aa95b8eb"
      },
      "source": [
        "data.head()"
      ],
      "execution_count": 315,
      "outputs": [
        {
          "output_type": "execute_result",
          "data": {
            "text/html": [
              "<div>\n",
              "<style scoped>\n",
              "    .dataframe tbody tr th:only-of-type {\n",
              "        vertical-align: middle;\n",
              "    }\n",
              "\n",
              "    .dataframe tbody tr th {\n",
              "        vertical-align: top;\n",
              "    }\n",
              "\n",
              "    .dataframe thead th {\n",
              "        text-align: right;\n",
              "    }\n",
              "</style>\n",
              "<table border=\"1\" class=\"dataframe\">\n",
              "  <thead>\n",
              "    <tr style=\"text-align: right;\">\n",
              "      <th></th>\n",
              "      <th>title</th>\n",
              "      <th>overview</th>\n",
              "      <th>genres</th>\n",
              "      <th>cast</th>\n",
              "      <th>crew</th>\n",
              "    </tr>\n",
              "  </thead>\n",
              "  <tbody>\n",
              "    <tr>\n",
              "      <th>0</th>\n",
              "      <td>Avatar</td>\n",
              "      <td>[In, 22nd, century, paraplegic, Marine, dispat...</td>\n",
              "      <td>[Action, Adventure, Fantasy, Science Fiction]</td>\n",
              "      <td>[Sam Worthington, Zoe Saldana, Sigourney Weave...</td>\n",
              "      <td>[James Cameron]</td>\n",
              "    </tr>\n",
              "    <tr>\n",
              "      <th>1</th>\n",
              "      <td>Pirates of the Caribbean: At World's End</td>\n",
              "      <td>[Captain, Barbossa, long, believed, dead, come...</td>\n",
              "      <td>[Adventure, Fantasy, Action]</td>\n",
              "      <td>[Johnny Depp, Orlando Bloom, Keira Knightley, ...</td>\n",
              "      <td>[Gore Verbinski]</td>\n",
              "    </tr>\n",
              "    <tr>\n",
              "      <th>2</th>\n",
              "      <td>Spectre</td>\n",
              "      <td>[A, cryptic, message, Bond, ’, past, sends, tr...</td>\n",
              "      <td>[Action, Adventure, Crime]</td>\n",
              "      <td>[Daniel Craig, Christoph Waltz, Léa Seydoux, R...</td>\n",
              "      <td>[Sam Mendes]</td>\n",
              "    </tr>\n",
              "    <tr>\n",
              "      <th>3</th>\n",
              "      <td>The Dark Knight Rises</td>\n",
              "      <td>[Following, death, District, Attorney, Harvey,...</td>\n",
              "      <td>[Action, Crime, Drama, Thriller]</td>\n",
              "      <td>[Christian Bale, Michael Caine, Gary Oldman, A...</td>\n",
              "      <td>[Christopher Nolan]</td>\n",
              "    </tr>\n",
              "    <tr>\n",
              "      <th>4</th>\n",
              "      <td>John Carter</td>\n",
              "      <td>[John, Carter, war-weary, former, military, ca...</td>\n",
              "      <td>[Action, Adventure, Science Fiction]</td>\n",
              "      <td>[Taylor Kitsch, Lynn Collins, Samantha Morton,...</td>\n",
              "      <td>[Andrew Stanton]</td>\n",
              "    </tr>\n",
              "  </tbody>\n",
              "</table>\n",
              "</div>"
            ],
            "text/plain": [
              "                                      title  ...                 crew\n",
              "0                                    Avatar  ...      [James Cameron]\n",
              "1  Pirates of the Caribbean: At World's End  ...     [Gore Verbinski]\n",
              "2                                   Spectre  ...         [Sam Mendes]\n",
              "3                     The Dark Knight Rises  ...  [Christopher Nolan]\n",
              "4                               John Carter  ...     [Andrew Stanton]\n",
              "\n",
              "[5 rows x 5 columns]"
            ]
          },
          "metadata": {
            "tags": []
          },
          "execution_count": 315
        }
      ]
    },
    {
      "cell_type": "markdown",
      "metadata": {
        "id": "St4maUdQD931"
      },
      "source": [
        ""
      ]
    }
  ]
}